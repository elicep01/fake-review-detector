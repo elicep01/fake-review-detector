{
 "cells": [
  {
   "cell_type": "markdown",
   "metadata": {},
   "source": [
    "# 03 - Baseline: TF–IDF + Logistic Regression\n",
    "\n",
    "In this notebook we will:\n",
    "1. Load our train/val/test splits for a chosen task (HH, SP, or BD)  \n",
    "2. Clean the text using our `clean_text()` function  \n",
    "3. Fit a TF–IDF → LogisticRegression pipeline with 5‑fold CV to tune C  \n",
    "4. Evaluate on the validation set (classification report, PR‑AUC)  \n",
    "5. Plot precision‑recall curve and confusion matrix  \n",
    "6. Save the best model for later use  \n"
   ]
  },
  {
   "cell_type": "code",
   "metadata": {
    "ExecuteTime": {
     "end_time": "2025-08-02T22:01:00.176959Z",
     "start_time": "2025-08-02T22:01:00.173677Z"
    }
   },
   "source": [
    "# — Choose task —\n",
    "# Options: \"hh\" (helpfulness), \"sp\" (sentiment), \"bd\" (burst/duplicate)\n",
    "TASK = \"sp\"\n"
   ],
   "outputs": [],
   "execution_count": 5
  },
  {
   "cell_type": "code",
   "metadata": {
    "ExecuteTime": {
     "end_time": "2025-08-02T22:01:00.192968Z",
     "start_time": "2025-08-02T22:01:00.185361Z"
    }
   },
   "source": [
    "# Imports\n",
    "import pandas as pd\n",
    "import numpy as np\n",
    "import matplotlib.pyplot as plt\n",
    "from sklearn.feature_extraction.text import TfidfVectorizer\n",
    "from sklearn.linear_model import LogisticRegression\n",
    "from sklearn.pipeline import Pipeline\n",
    "from sklearn.model_selection import GridSearchCV\n",
    "from sklearn.metrics import classification_report, average_precision_score, precision_recall_curve, confusion_matrix\n",
    "import joblib\n",
    "\n",
    "%matplotlib inline\n",
    "plt.style.use('ggplot')\n"
   ],
   "outputs": [],
   "execution_count": 6
  },
  {
   "cell_type": "code",
   "metadata": {
    "ExecuteTime": {
     "end_time": "2025-08-02T22:01:00.205279Z",
     "start_time": "2025-08-02T22:01:00.201836Z"
    }
   },
   "source": [
    "# Re‐define clean_text inline (copy from preprocessing)\n",
    "import re\n",
    "from nltk.corpus import stopwords\n",
    "from nltk.stem import WordNetLemmatizer\n",
    "STOP = set(stopwords.words('english'))\n",
    "lemmatizer = WordNetLemmatizer()\n",
    "\n",
    "def clean_text(text):\n",
    "    txt = text.lower()\n",
    "    txt = re.sub(r'<[^>]+>', ' ', txt)\n",
    "    txt = re.sub(r'http\\S+|www\\.\\S+', ' ', txt)\n",
    "    txt = re.sub(r'[^a-z\\s]', ' ', txt)\n",
    "    txt = re.sub(r'\\s+', ' ', txt).strip()\n",
    "    tokens = [w for w in txt.split() if w not in STOP]\n",
    "    return ' '.join(lemmatizer.lemmatize(w) for w in tokens)\n"
   ],
   "outputs": [],
   "execution_count": 7
  },
  {
   "cell_type": "code",
   "metadata": {
    "ExecuteTime": {
     "end_time": "2025-08-02T22:01:33.360187Z",
     "start_time": "2025-08-02T22:01:31.113692Z"
    }
   },
   "source": [
    "# Load splits\n",
    "train = pd.read_csv(f\"project_splits/{TASK}_train.csv\")\n",
    "val   = pd.read_csv(f\"project_splits/{TASK}_val.csv\")\n",
    "test  = pd.read_csv(f\"project_splits/{TASK}_test.csv\")\n",
    "\n",
    "print(f\"Train: {len(train):,}   Val: {len(val):,}   Test: {len(test):,}\")\n",
    "print(\"Class balance (train):\")\n",
    "print(train['label'].value_counts(normalize=True).map(\"{:.2%}\".format))\n"
   ],
   "outputs": [
    {
     "name": "stdout",
     "output_type": "stream",
     "text": [
      "Train: 368,069   Val: 52,581   Test: 105,164\n",
      "Class balance (train):\n",
      "label\n",
      "1    84.40%\n",
      "0    15.60%\n",
      "Name: proportion, dtype: object\n"
     ]
    }
   ],
   "execution_count": 10
  },
  {
   "cell_type": "code",
   "metadata": {
    "ExecuteTime": {
     "end_time": "2025-08-02T22:03:00.159404Z",
     "start_time": "2025-08-02T22:01:45.073560Z"
    }
   },
   "source": [
    "# Apply cleaning to text\n",
    "for df_ in (train, val, test):\n",
    "    df_[\"cleaned\"] = df_[\"Text\"].apply(clean_text)\n"
   ],
   "outputs": [],
   "execution_count": 11
  },
  {
   "cell_type": "code",
   "metadata": {
    "ExecuteTime": {
     "end_time": "2025-08-02T22:09:35.414838Z",
     "start_time": "2025-08-02T22:06:36.210248Z"
    }
   },
   "source": [
    "import time\n",
    "# Build pipeline & grid\n",
    "pipeline = Pipeline([\n",
    "    (\"tfidf\", TfidfVectorizer(max_features=20000, ngram_range=(1,2))),\n",
    "    (\"clf\", LogisticRegression(max_iter=200, class_weight=\"balanced\", solver=\"saga\"))\n",
    "])\n",
    "\n",
    "param_grid = {\n",
    "    \"clf__C\": [0.1, 1.0, 3.0]\n",
    "}\n",
    "\n",
    "grid = GridSearchCV(\n",
    "    pipeline,\n",
    "    param_grid,\n",
    "    cv=5,\n",
    "    scoring=\"f1\",\n",
    "    n_jobs=-1,\n",
    "    verbose=1\n",
    ")\n",
    "\n",
    "# Fit on TRAIN\n",
    "fit_start_time = time.time()\n",
    "grid.fit(train[\"cleaned\"], train[\"label\"])\n",
    "fit_time = time.time() - fit_start_time"
   ],
   "outputs": [
    {
     "name": "stdout",
     "output_type": "stream",
     "text": [
      "Fitting 5 folds for each of 3 candidates, totalling 15 fits\n"
     ]
    }
   ],
   "execution_count": 15
  },
  {
   "cell_type": "code",
   "metadata": {
    "ExecuteTime": {
     "end_time": "2025-08-02T22:09:35.461776Z",
     "start_time": "2025-08-02T22:09:35.456834Z"
    }
   },
   "source": [
    "# Best hyperparameters & CV score\n",
    "print(\"Best params:\", grid.best_params_)\n",
    "print(\"Best CV F1 :\", grid.best_score_.round(4))\n",
    "print(f'Fitting Time: {fit_time:.4f}s')"
   ],
   "outputs": [
    {
     "name": "stdout",
     "output_type": "stream",
     "text": [
      "Best params: {'clf__C': 3.0}\n",
      "Best CV F1 : 0.954\n",
      "Fitting Time: 179.1958s\n"
     ]
    }
   ],
   "execution_count": 16
  },
  {
   "cell_type": "code",
   "metadata": {
    "ExecuteTime": {
     "end_time": "2025-08-02T22:12:53.729015Z",
     "start_time": "2025-08-02T22:12:49.454346Z"
    }
   },
   "source": [
    "# Evaluate on VAL\n",
    "y_val_pred  = grid.predict(val[\"cleaned\"])\n",
    "y_val_proba = grid.predict_proba(val[\"cleaned\"])[:,1]\n",
    "\n",
    "print(classification_report(val[\"label\"], y_val_pred, digits=3))\n",
    "print(\"PR‑AUC:\", f'{average_precision_score(val[\"label\"], y_val_proba):.4f}')\n"
   ],
   "outputs": [
    {
     "name": "stdout",
     "output_type": "stream",
     "text": [
      "              precision    recall  f1-score   support\n",
      "\n",
      "           0      0.695     0.909     0.788      8204\n",
      "           1      0.982     0.926     0.953     44377\n",
      "\n",
      "    accuracy                          0.924     52581\n",
      "   macro avg      0.839     0.918     0.871     52581\n",
      "weighted avg      0.937     0.924     0.928     52581\n",
      "\n",
      "PR‑AUC: 0.9945\n"
     ]
    }
   ],
   "execution_count": 18
  },
  {
   "cell_type": "code",
   "metadata": {
    "ExecuteTime": {
     "end_time": "2025-08-02T22:13:03.165Z",
     "start_time": "2025-08-02T22:13:03.056341Z"
    }
   },
   "source": [
    "# Precision‑Recall curve\n",
    "prec, rec, thr = precision_recall_curve(val[\"label\"], y_val_proba)\n",
    "plt.figure(figsize=(6,4))\n",
    "plt.plot(rec, prec, lw=2)\n",
    "plt.xlabel(\"Recall\")\n",
    "plt.ylabel(\"Precision\")\n",
    "plt.title(f\"PR Curve ({TASK.upper()})\")\n",
    "plt.show()\n"
   ],
   "outputs": [
    {
     "data": {
      "text/plain": [
       "<Figure size 600x400 with 1 Axes>"
      ],
      "image/png": "[encoded data removed]"
     },
     "metadata": {},
     "output_type": "display_data"
    }
   ],
   "execution_count": 19
  },
  {
   "cell_type": "code",
   "metadata": {
    "ExecuteTime": {
     "end_time": "2025-08-02T22:13:06.170369Z",
     "start_time": "2025-08-02T22:13:06.103502Z"
    }
   },
   "source": [
    "# Confusion matrix\n",
    "cm = confusion_matrix(val[\"label\"], y_val_pred)\n",
    "fig, ax = plt.subplots(figsize=(4,4))\n",
    "im = ax.imshow(cm, interpolation='nearest', cmap=plt.cm.Blues)\n",
    "ax.figure.colorbar(im, ax=ax)\n",
    "ax.set_xticks([0,1]); ax.set_xticklabels([\"0\",\"1\"])\n",
    "ax.set_yticks([0,1]); ax.set_yticklabels([\"0\",\"1\"])\n",
    "ax.set_xlabel(\"Predicted\")\n",
    "ax.set_ylabel(\"Actual\")\n",
    "for i in (0,1):\n",
    "    for j in (0,1):\n",
    "        ax.text(j, i, cm[i,j], ha=\"center\", va=\"center\", color=\"white\" if cm[i,j]>cm.max()/2 else \"black\")\n",
    "plt.title(\"Confusion Matrix\")\n",
    "plt.show()\n"
   ],
   "outputs": [
    {
     "data": {
      "text/plain": [
       "<Figure size 400x400 with 2 Axes>"
      ],
      "image/png": "[encoded data removed]"
     },
     "metadata": {},
     "output_type": "display_data"
    }
   ],
   "execution_count": 20
  },
  {
   "cell_type": "code",
   "metadata": {
    "ExecuteTime": {
     "end_time": "2025-08-02T22:13:09.104337Z",
     "start_time": "2025-08-02T22:13:08.900833Z"
    }
   },
   "source": [
    "# Save best model\n",
    "model_path = f\"models/{TASK}_tfidf_logreg.joblib\"\n",
    "vectorizer_path = f\"models/{TASK}_tfidf_vectorizer.joblib\"\n",
    "grid.best_estimator_.named_steps[\"tfidf\"]\n",
    "# Dump full pipeline\n",
    "joblib.dump(grid.best_estimator_, model_path)\n",
    "print(\"Saved pipeline to\", model_path)\n"
   ],
   "outputs": [
    {
     "name": "stdout",
     "output_type": "stream",
     "text": [
      "Saved pipeline to models/sp_tfidf_logreg.joblib\n"
     ]
    }
   ],
   "execution_count": 21
  }
 ],
 "metadata": {
  "kernelspec": {
   "display_name": "Python 3 (ipykernel)",
   "language": "python",
   "name": "python3"
  },
  "language_info": {
   "codemirror_mode": {
    "name": "ipython",
    "version": 3
   },
   "file_extension": ".py",
   "mimetype": "text/x-python",
   "name": "python",
   "nbconvert_exporter": "python",
   "pygments_lexer": "ipython3",
   "version": "3.11.6"
  }
 },
 "nbformat": 4,
 "nbformat_minor": 4
}
