{
 "cells": [
  {
   "cell_type": "markdown",
   "metadata": {},
   "source": [
    "# 02 - Preprocessing\n",
    "\n",
    "In this notebook we will:\n",
    "1. Define and test a `clean_text()` function  \n",
    "2. Apply it to our datasets  \n",
    "3. Compare text‐length/token stats before & after cleaning  \n",
    "4. Show examples of raw vs cleaned text  \n"
   ]
  },
  {
   "cell_type": "code",
   "execution_count": 8,
   "metadata": {},
   "outputs": [],
   "source": [
    "# Imports\n",
    "import pandas as pd\n",
    "import numpy as np\n",
    "import re\n",
    "from nltk.corpus import stopwords\n",
    "from nltk.stem import WordNetLemmatizer\n",
    "import matplotlib.pyplot as plt\n",
    "\n",
    "%matplotlib inline\n",
    "plt.style.use('ggplot')\n"
   ]
  },
  {
   "cell_type": "code",
   "execution_count": 10,
   "metadata": {},
   "outputs": [],
   "source": [
    "# Prepare stopwords & lemmatizer\n",
    "STOP = set(stopwords.words('english'))\n",
    "lemmatizer = WordNetLemmatizer()\n",
    "\n",
    "def clean_text(text):\n",
    "    \"\"\"Lowercase, remove HTML tags, punctuation/digits, stopwords; lemmatize.\"\"\"\n",
    "    # lowercase\n",
    "    txt = text.lower()\n",
    "    # remove HTML tags\n",
    "    txt = re.sub(r'<[^>]+>', ' ', txt)\n",
    "    # remove URLs\n",
    "    txt = re.sub(r'http\\S+|www\\.\\S+', ' ', txt)\n",
    "    # remove punctuation & digits\n",
    "    txt = re.sub(r'[^a-z\\s]', ' ', txt)\n",
    "    # collapse whitespace\n",
    "    txt = re.sub(r'\\s+', ' ', txt).strip()\n",
    "    # tokenize & remove stopwords\n",
    "    tokens = [w for w in txt.split() if w not in STOP]\n",
    "    # lemmatize\n",
    "    lemmas = [lemmatizer.lemmatize(w) for w in tokens]\n",
    "    return ' '.join(lemmas)\n"
   ]
  },
  {
   "cell_type": "code",
   "execution_count": 11,
   "metadata": {},
   "outputs": [
    {
     "name": "stdout",
     "output_type": "stream",
     "text": [
      "RAW : I loved this product!!! <br> It's soooo good. Visit https://example.com\n",
      "CLEAN: loved product soooo good visit \n",
      "\n",
      "RAW : Worst. Purchase. Ever...  :-(\n",
      "CLEAN: worst purchase ever \n",
      "\n",
      "RAW : Mixed feelings—I kind of liked it, but shipping was slow.\n",
      "CLEAN: mixed feeling kind liked shipping slow \n",
      "\n"
     ]
    }
   ],
   "source": [
    "# Quick unit tests\n",
    "samples = [\n",
    "    \"I loved this product!!! <br> It's soooo good. Visit https://example.com\",\n",
    "    \"Worst. Purchase. Ever...  :-(\",\n",
    "    \"Mixed feelings—I kind of liked it, but shipping was slow.\"\n",
    "]\n",
    "for s in samples:\n",
    "    print(\"RAW :\", s)\n",
    "    print(\"CLEAN:\", clean_text(s), \"\\n\")\n"
   ]
  },
  {
   "cell_type": "code",
   "execution_count": 15,
   "metadata": {},
   "outputs": [
    {
     "name": "stdout",
     "output_type": "stream",
     "text": [
      "Raw word count: count    368069.0\n",
      "mean         79.0\n",
      "std          78.6\n",
      "min           3.0\n",
      "25%          33.0\n",
      "50%          55.0\n",
      "75%          96.0\n",
      "max        2520.0\n",
      "Name: raw_wc, dtype: float64\n",
      "Clean word count: count    368069.0\n",
      "mean         39.0\n",
      "std          39.6\n",
      "min           0.0\n",
      "25%          16.0\n",
      "50%          27.0\n",
      "75%          47.0\n",
      "max        1564.0\n",
      "Name: clean_wc, dtype: float64\n"
     ]
    }
   ],
   "source": [
    "# Load one split (e.g., sentiment proxy train)\n",
    "df = pd.read_csv('../project_splits/sp_train.csv')   # adjust path for hh/sp/bd\n",
    "\n",
    "# Before/after lengths\n",
    "df['raw_wc'] = df['Text'].str.split().apply(len)\n",
    "df['cleaned'] = df['Text'].apply(clean_text)\n",
    "df['clean_wc'] = df['cleaned'].str.split().apply(len)\n",
    "\n",
    "# Summary stats\n",
    "print(\"Raw word count:\", df['raw_wc'].describe().round(1))\n",
    "print(\"Clean word count:\", df['clean_wc'].describe().round(1))\n"
   ]
  },
  {
   "cell_type": "code",
   "execution_count": 16,
   "metadata": {},
   "outputs": [
    {
     "data": {
      "image/png": "[encoded data removed]",
      "text/plain": [
       "<Figure size 1200x400 with 2 Axes>"
      ]
     },
     "metadata": {},
     "output_type": "display_data"
    }
   ],
   "source": [
    "# Plot comparison histograms\n",
    "fig, axes = plt.subplots(1,2,figsize=(12,4))\n",
    "df['raw_wc'].clip(upper=100).hist(bins=50, ax=axes[0])\n",
    "axes[0].set_title('Raw word count (≤100)')\n",
    "axes[0].set_xlabel('Words')\n",
    "\n",
    "df['clean_wc'].clip(upper=100).hist(bins=50, ax=axes[1])\n",
    "axes[1].set_title('Cleaned word count (≤100)')\n",
    "axes[1].set_xlabel('Words')\n",
    "\n",
    "plt.tight_layout()\n",
    "plt.show()\n"
   ]
  },
  {
   "cell_type": "code",
   "execution_count": 17,
   "metadata": {},
   "outputs": [
    {
     "name": "stdout",
     "output_type": "stream",
     "text": [
      "RAW    > Okay, my chihuaha is finicky...i have wasted lots of money on other rawhide chews and finally found one! Thank you beefe …\n",
      "CLEAN  > okay chihuaha finicky wasted lot money rawhide chew finally found one thank beefeater \n",
      "\n",
      "RAW    > I only gave this tea a star because I couldn't post a review without at least one. It really rates ZERO stars.<br />I ha …\n",
      "CLEAN  > gave tea star post review without least one really rate zero star loved good earth original sweet spicy caffeine free he \n",
      "\n",
      "RAW    > First off ignore Alvatore Bilotti review, not to bright<br />Anyway this stuff is very good, not to salty or over flavor …\n",
      "CLEAN  > first ignore alvatore bilotti review bright anyway stuff good salty flavored get costco save anyone would buy insane cau \n",
      "\n",
      "RAW    > I have been a huge fan Aero bars for years, but up until recently they were difficult to find in the US. While Nestle ma …\n",
      "CLEAN  > huge fan aero bar year recently difficult find u nestle make great chocolate cadbury dairy milk chocolate better cadbury \n",
      "\n",
      "RAW    > Buy more than one box - these disappear fast! Bahlsen Biscuits are elegant, impressive, and delight everyone. I keep som …\n",
      "CLEAN  > buy one box disappear fast bahlsen biscuit elegant impressive delight everyone keep hand unexpected guest hazelnut biscu \n",
      "\n"
     ]
    }
   ],
   "source": [
    "# Show raw vs cleaned examples\n",
    "for raw, clean in df[['Text','cleaned']].sample(5, random_state=42).values:\n",
    "    print(\"RAW    >\", raw[:120], \"…\")\n",
    "    print(\"CLEAN  >\", clean[:120], \"\\n\")\n"
   ]
  },
  {
   "cell_type": "code",
   "execution_count": 18,
   "metadata": {},
   "outputs": [],
   "source": [
    "# Save cleaned column for later notebooks\n",
    "df.to_csv('../project_splits/sp_train_clean.csv', index=False)\n"
   ]
  },
  {
   "cell_type": "code",
   "execution_count": null,
   "metadata": {},
   "outputs": [],
   "source": []
  }
 ],
 "metadata": {
  "kernelspec": {
   "display_name": "Python 3 (ipykernel)",
   "language": "python",
   "name": "python3"
  },
  "language_info": {
   "codemirror_mode": {
    "name": "ipython",
    "version": 3
   },
   "file_extension": ".py",
   "mimetype": "text/x-python",
   "name": "python",
   "nbconvert_exporter": "python",
   "pygments_lexer": "ipython3",
   "version": "3.11.6"
  }
 },
 "nbformat": 4,
 "nbformat_minor": 4
}
