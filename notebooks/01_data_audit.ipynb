{
 "cells": [
  {
   "cell_type": "markdown",
   "metadata": {},
   "source": [
    "# 01 - Data Audit\n",
    "\n",
    "In this notebook we will:\n",
    "1. Load the raw `Reviews.csv`\n",
    "2. Inspect shape, columns, and missing values  \n",
    "3. Visualize STAR‐rating distribution  \n",
    "4. Compute basic text‐length stats & histograms  \n",
    "5. Define and count our two simple label schemes (Helpfulness Heuristic & Sentiment Proxy)  \n"
   ]
  },
  {
   "cell_type": "code",
   "execution_count": 1,
   "metadata": {},
   "outputs": [],
   "source": [
    "# standard imports\n",
    "import pandas as pd\n",
    "import numpy as np\n",
    "import matplotlib.pyplot as plt\n",
    "\n",
    "# make plots show inline\n",
    "%matplotlib inline\n",
    "plt.style.use('ggplot')\n"
   ]
  },
  {
   "cell_type": "code",
   "execution_count": 2,
   "metadata": {},
   "outputs": [
    {
     "name": "stdout",
     "output_type": "stream",
     "text": [
      "Shape: (568454, 10)\n",
      "Columns: ['Id', 'ProductId', 'UserId', 'ProfileName', 'HelpfulnessNumerator', 'HelpfulnessDenominator', 'Score', 'Time', 'Summary', 'Text']\n"
     ]
    },
    {
     "data": {
      "text/html": [
       "<div>\n",
       "<style scoped>\n",
       "    .dataframe tbody tr th:only-of-type {\n",
       "        vertical-align: middle;\n",
       "    }\n",
       "\n",
       "    .dataframe tbody tr th {\n",
       "        vertical-align: top;\n",
       "    }\n",
       "\n",
       "    .dataframe thead th {\n",
       "        text-align: right;\n",
       "    }\n",
       "</style>\n",
       "<table border=\"1\" class=\"dataframe\">\n",
       "  <thead>\n",
       "    <tr style=\"text-align: right;\">\n",
       "      <th></th>\n",
       "      <th>Id</th>\n",
       "      <th>ProductId</th>\n",
       "      <th>UserId</th>\n",
       "      <th>ProfileName</th>\n",
       "      <th>HelpfulnessNumerator</th>\n",
       "      <th>HelpfulnessDenominator</th>\n",
       "      <th>Score</th>\n",
       "      <th>Time</th>\n",
       "      <th>Summary</th>\n",
       "      <th>Text</th>\n",
       "    </tr>\n",
       "  </thead>\n",
       "  <tbody>\n",
       "    <tr>\n",
       "      <th>0</th>\n",
       "      <td>1</td>\n",
       "      <td>B001E4KFG0</td>\n",
       "      <td>A3SGXH7AUHU8GW</td>\n",
       "      <td>delmartian</td>\n",
       "      <td>1</td>\n",
       "      <td>1</td>\n",
       "      <td>5</td>\n",
       "      <td>1303862400</td>\n",
       "      <td>Good Quality Dog Food</td>\n",
       "      <td>I have bought several of the Vitality canned d...</td>\n",
       "    </tr>\n",
       "    <tr>\n",
       "      <th>1</th>\n",
       "      <td>2</td>\n",
       "      <td>B00813GRG4</td>\n",
       "      <td>A1D87F6ZCVE5NK</td>\n",
       "      <td>dll pa</td>\n",
       "      <td>0</td>\n",
       "      <td>0</td>\n",
       "      <td>1</td>\n",
       "      <td>1346976000</td>\n",
       "      <td>Not as Advertised</td>\n",
       "      <td>Product arrived labeled as Jumbo Salted Peanut...</td>\n",
       "    </tr>\n",
       "    <tr>\n",
       "      <th>2</th>\n",
       "      <td>3</td>\n",
       "      <td>B000LQOCH0</td>\n",
       "      <td>ABXLMWJIXXAIN</td>\n",
       "      <td>Natalia Corres \"Natalia Corres\"</td>\n",
       "      <td>1</td>\n",
       "      <td>1</td>\n",
       "      <td>4</td>\n",
       "      <td>1219017600</td>\n",
       "      <td>\"Delight\" says it all</td>\n",
       "      <td>This is a confection that has been around a fe...</td>\n",
       "    </tr>\n",
       "  </tbody>\n",
       "</table>\n",
       "</div>"
      ],
      "text/plain": [
       "   Id   ProductId          UserId                      ProfileName  \\\n",
       "0   1  B001E4KFG0  A3SGXH7AUHU8GW                       delmartian   \n",
       "1   2  B00813GRG4  A1D87F6ZCVE5NK                           dll pa   \n",
       "2   3  B000LQOCH0   ABXLMWJIXXAIN  Natalia Corres \"Natalia Corres\"   \n",
       "\n",
       "   HelpfulnessNumerator  HelpfulnessDenominator  Score        Time  \\\n",
       "0                     1                       1      5  1303862400   \n",
       "1                     0                       0      1  1346976000   \n",
       "2                     1                       1      4  1219017600   \n",
       "\n",
       "                 Summary                                               Text  \n",
       "0  Good Quality Dog Food  I have bought several of the Vitality canned d...  \n",
       "1      Not as Advertised  Product arrived labeled as Jumbo Salted Peanut...  \n",
       "2  \"Delight\" says it all  This is a confection that has been around a fe...  "
      ]
     },
     "execution_count": 2,
     "metadata": {},
     "output_type": "execute_result"
    }
   ],
   "source": [
    "# 1) Load data\n",
    "df = pd.read_csv('../data/Reviews.csv')   # adjust path if needed\n",
    "\n",
    "# Quick peek\n",
    "print(\"Shape:\", df.shape)\n",
    "print(\"Columns:\", df.columns.tolist())\n",
    "df.head(3)\n"
   ]
  },
  {
   "cell_type": "code",
   "execution_count": 3,
   "metadata": {},
   "outputs": [
    {
     "data": {
      "text/html": [
       "<div>\n",
       "<style scoped>\n",
       "    .dataframe tbody tr th:only-of-type {\n",
       "        vertical-align: middle;\n",
       "    }\n",
       "\n",
       "    .dataframe tbody tr th {\n",
       "        vertical-align: top;\n",
       "    }\n",
       "\n",
       "    .dataframe thead th {\n",
       "        text-align: right;\n",
       "    }\n",
       "</style>\n",
       "<table border=\"1\" class=\"dataframe\">\n",
       "  <thead>\n",
       "    <tr style=\"text-align: right;\">\n",
       "      <th></th>\n",
       "      <th>null_count</th>\n",
       "    </tr>\n",
       "  </thead>\n",
       "  <tbody>\n",
       "    <tr>\n",
       "      <th>Summary</th>\n",
       "      <td>27</td>\n",
       "    </tr>\n",
       "    <tr>\n",
       "      <th>ProfileName</th>\n",
       "      <td>26</td>\n",
       "    </tr>\n",
       "    <tr>\n",
       "      <th>Id</th>\n",
       "      <td>0</td>\n",
       "    </tr>\n",
       "    <tr>\n",
       "      <th>ProductId</th>\n",
       "      <td>0</td>\n",
       "    </tr>\n",
       "    <tr>\n",
       "      <th>UserId</th>\n",
       "      <td>0</td>\n",
       "    </tr>\n",
       "    <tr>\n",
       "      <th>HelpfulnessNumerator</th>\n",
       "      <td>0</td>\n",
       "    </tr>\n",
       "    <tr>\n",
       "      <th>HelpfulnessDenominator</th>\n",
       "      <td>0</td>\n",
       "    </tr>\n",
       "    <tr>\n",
       "      <th>Score</th>\n",
       "      <td>0</td>\n",
       "    </tr>\n",
       "    <tr>\n",
       "      <th>Time</th>\n",
       "      <td>0</td>\n",
       "    </tr>\n",
       "    <tr>\n",
       "      <th>Text</th>\n",
       "      <td>0</td>\n",
       "    </tr>\n",
       "  </tbody>\n",
       "</table>\n",
       "</div>"
      ],
      "text/plain": [
       "                        null_count\n",
       "Summary                         27\n",
       "ProfileName                     26\n",
       "Id                               0\n",
       "ProductId                        0\n",
       "UserId                           0\n",
       "HelpfulnessNumerator             0\n",
       "HelpfulnessDenominator           0\n",
       "Score                            0\n",
       "Time                             0\n",
       "Text                             0"
      ]
     },
     "execution_count": 3,
     "metadata": {},
     "output_type": "execute_result"
    }
   ],
   "source": [
    "# 2) Missing / null values\n",
    "nulls = df.isnull().sum().sort_values(ascending=False)\n",
    "pd.DataFrame({'null_count': nulls})\n"
   ]
  },
  {
   "cell_type": "code",
   "execution_count": 4,
   "metadata": {},
   "outputs": [
    {
     "data": {
      "image/png": "[encoded data removed]",
      "text/plain": [
       "<Figure size 600x400 with 1 Axes>"
      ]
     },
     "metadata": {},
     "output_type": "display_data"
    }
   ],
   "source": [
    "# 3) STAR‐rating distribution\n",
    "counts = df['Score'].value_counts().sort_index()\n",
    "fig, ax = plt.subplots(figsize=(6,4))\n",
    "counts.plot.bar(ax=ax)\n",
    "ax.set_xlabel('Score (★)')\n",
    "ax.set_ylabel('Count')\n",
    "ax.set_title('Review Star Ratings')\n",
    "plt.show()\n"
   ]
  },
  {
   "cell_type": "code",
   "execution_count": 5,
   "metadata": {},
   "outputs": [
    {
     "name": "stdout",
     "output_type": "stream",
     "text": [
      "Char length: count    568454.0\n",
      "mean        436.2\n",
      "std         445.3\n",
      "min          12.0\n",
      "25%         179.0\n",
      "50%         302.0\n",
      "75%         527.0\n",
      "max       21409.0\n",
      "Name: char_len, dtype: float64\n",
      "Word length: count    568454.0\n",
      "mean         80.3\n",
      "std          79.5\n",
      "min           3.0\n",
      "25%          33.0\n",
      "50%          56.0\n",
      "75%          98.0\n",
      "max        3432.0\n",
      "Name: word_len, dtype: float64\n"
     ]
    },
    {
     "data": {
      "image/png": "[encoded data removed]",
      "text/plain": [
       "<Figure size 1200x400 with 2 Axes>"
      ]
     },
     "metadata": {},
     "output_type": "display_data"
    }
   ],
   "source": [
    "# 4) Text‐length stats\n",
    "df['char_len'] = df['Text'].str.len()\n",
    "df['word_len'] = df['Text'].str.split().apply(len)\n",
    "\n",
    "# summary stats\n",
    "print(\"Char length:\", df['char_len'].describe().round(1))\n",
    "print(\"Word length:\", df['word_len'].describe().round(1))\n",
    "\n",
    "# histograms\n",
    "fig, axes = plt.subplots(1,2,figsize=(12,4))\n",
    "df['word_len'].clip(upper=200).hist(bins=50, ax=axes[0])\n",
    "axes[0].set_title('Word count (clipped at 200)')\n",
    "axes[0].set_xlabel('Words')\n",
    "\n",
    "df['char_len'].clip(upper=1000).hist(bins=50, ax=axes[1])\n",
    "axes[1].set_title('Character count (clipped at 1000)')\n",
    "axes[1].set_xlabel('Chars')\n",
    "\n",
    "plt.tight_layout()\n",
    "plt.show()\n"
   ]
  },
  {
   "cell_type": "markdown",
   "metadata": {},
   "source": [
    "## 5) Label schemes\n",
    "\n",
    "We’ll create two simple binary labels:\n",
    "- **HH (Helpfulness Heuristic)**  \n",
    "- **SP (Sentiment Proxy)**\n"
   ]
  },
  {
   "cell_type": "code",
   "execution_count": 6,
   "metadata": {},
   "outputs": [
    {
     "data": {
      "text/html": [
       "<div>\n",
       "<style scoped>\n",
       "    .dataframe tbody tr th:only-of-type {\n",
       "        vertical-align: middle;\n",
       "    }\n",
       "\n",
       "    .dataframe tbody tr th {\n",
       "        vertical-align: top;\n",
       "    }\n",
       "\n",
       "    .dataframe thead th {\n",
       "        text-align: right;\n",
       "    }\n",
       "</style>\n",
       "<table border=\"1\" class=\"dataframe\">\n",
       "  <thead>\n",
       "    <tr style=\"text-align: right;\">\n",
       "      <th></th>\n",
       "      <th>HH</th>\n",
       "      <th>SP</th>\n",
       "    </tr>\n",
       "  </thead>\n",
       "  <tbody>\n",
       "    <tr>\n",
       "      <th>neg(0)</th>\n",
       "      <td>881</td>\n",
       "      <td>82037</td>\n",
       "    </tr>\n",
       "    <tr>\n",
       "      <th>pos(1)</th>\n",
       "      <td>52003</td>\n",
       "      <td>443777</td>\n",
       "    </tr>\n",
       "    <tr>\n",
       "      <th>NaN</th>\n",
       "      <td>515570</td>\n",
       "      <td>42640</td>\n",
       "    </tr>\n",
       "  </tbody>\n",
       "</table>\n",
       "</div>"
      ],
      "text/plain": [
       "            HH      SP\n",
       "neg(0)     881   82037\n",
       "pos(1)   52003  443777\n",
       "NaN     515570   42640"
      ]
     },
     "execution_count": 6,
     "metadata": {},
     "output_type": "execute_result"
    }
   ],
   "source": [
    "# A) Helpfulness Heuristic (HH)\n",
    "#   help_ratio = num / denom (denom→1 if zero)\n",
    "df['help_ratio'] = df['HelpfulnessNumerator'] / df['HelpfulnessDenominator'].replace(0,1)\n",
    "df['hh_label'] = np.where(\n",
    "    (df['HelpfulnessDenominator']>=5)&(df['help_ratio']>=0.6), 1,\n",
    "    np.where((df['HelpfulnessDenominator']>=5)&(df['help_ratio']<=0.1)&(df['word_len']<30), 0, np.nan)\n",
    ")\n",
    "\n",
    "# B) Sentiment Proxy (SP)\n",
    "df['sp_label'] = np.where(df['Score'].isin([4,5]), 1,\n",
    "                          np.where(df['Score'].isin([1,2]), 0, np.nan))\n",
    "\n",
    "# Count each\n",
    "counts = pd.DataFrame({\n",
    "    'HH': df['hh_label'].value_counts(dropna=False),\n",
    "    'SP': df['sp_label'].value_counts(dropna=False)\n",
    "})\n",
    "counts.index = ['neg(0)','pos(1)','NaN']\n",
    "counts\n"
   ]
  },
  {
   "cell_type": "code",
   "execution_count": 7,
   "metadata": {},
   "outputs": [
    {
     "data": {
      "image/png": "[encoded data removed]",
      "text/plain": [
       "<Figure size 1000x400 with 2 Axes>"
      ]
     },
     "metadata": {},
     "output_type": "display_data"
    }
   ],
   "source": [
    "# Bar plots of label distributions\n",
    "fig, axes = plt.subplots(1,2,figsize=(10,4))\n",
    "counts['HH'].loc[['neg(0)','pos(1)']].plot.bar(ax=axes[0])\n",
    "axes[0].set_title('HH label distribution')\n",
    "axes[0].set_ylabel('Count')\n",
    "\n",
    "counts['SP'].loc[['neg(0)','pos(1)']].plot.bar(ax=axes[1])\n",
    "axes[1].set_title('SP label distribution')\n",
    "\n",
    "plt.tight_layout()\n",
    "plt.show()\n"
   ]
  },
  {
   "cell_type": "code",
   "execution_count": 8,
   "metadata": {},
   "outputs": [
    {
     "name": "stdout",
     "output_type": "stream",
     "text": [
      "HH = 1 (genuine) samples:\n"
     ]
    },
    {
     "data": {
      "text/html": [
       "<div>\n",
       "<style scoped>\n",
       "    .dataframe tbody tr th:only-of-type {\n",
       "        vertical-align: middle;\n",
       "    }\n",
       "\n",
       "    .dataframe tbody tr th {\n",
       "        vertical-align: top;\n",
       "    }\n",
       "\n",
       "    .dataframe thead th {\n",
       "        text-align: right;\n",
       "    }\n",
       "</style>\n",
       "<table border=\"1\" class=\"dataframe\">\n",
       "  <thead>\n",
       "    <tr style=\"text-align: right;\">\n",
       "      <th></th>\n",
       "      <th>Score</th>\n",
       "      <th>HelpfulnessNumerator</th>\n",
       "      <th>HelpfulnessDenominator</th>\n",
       "      <th>Text</th>\n",
       "    </tr>\n",
       "  </thead>\n",
       "  <tbody>\n",
       "    <tr>\n",
       "      <th>349306</th>\n",
       "      <td>5</td>\n",
       "      <td>8</td>\n",
       "      <td>8</td>\n",
       "      <td>This tea is amazingly delicious. I have always...</td>\n",
       "    </tr>\n",
       "    <tr>\n",
       "      <th>12238</th>\n",
       "      <td>1</td>\n",
       "      <td>4</td>\n",
       "      <td>5</td>\n",
       "      <td>all of the veterinary products made in China a...</td>\n",
       "    </tr>\n",
       "    <tr>\n",
       "      <th>127682</th>\n",
       "      <td>5</td>\n",
       "      <td>42</td>\n",
       "      <td>42</td>\n",
       "      <td>I have yet to find a superior dry cat food. I ...</td>\n",
       "    </tr>\n",
       "  </tbody>\n",
       "</table>\n",
       "</div>"
      ],
      "text/plain": [
       "        Score  HelpfulnessNumerator  HelpfulnessDenominator  \\\n",
       "349306      5                     8                       8   \n",
       "12238       1                     4                       5   \n",
       "127682      5                    42                      42   \n",
       "\n",
       "                                                     Text  \n",
       "349306  This tea is amazingly delicious. I have always...  \n",
       "12238   all of the veterinary products made in China a...  \n",
       "127682  I have yet to find a superior dry cat food. I ...  "
      ]
     },
     "metadata": {},
     "output_type": "display_data"
    },
    {
     "name": "stdout",
     "output_type": "stream",
     "text": [
      "\n",
      "HH = 0 (fake) samples:\n"
     ]
    },
    {
     "data": {
      "text/html": [
       "<div>\n",
       "<style scoped>\n",
       "    .dataframe tbody tr th:only-of-type {\n",
       "        vertical-align: middle;\n",
       "    }\n",
       "\n",
       "    .dataframe tbody tr th {\n",
       "        vertical-align: top;\n",
       "    }\n",
       "\n",
       "    .dataframe thead th {\n",
       "        text-align: right;\n",
       "    }\n",
       "</style>\n",
       "<table border=\"1\" class=\"dataframe\">\n",
       "  <thead>\n",
       "    <tr style=\"text-align: right;\">\n",
       "      <th></th>\n",
       "      <th>Score</th>\n",
       "      <th>HelpfulnessNumerator</th>\n",
       "      <th>HelpfulnessDenominator</th>\n",
       "      <th>Text</th>\n",
       "    </tr>\n",
       "  </thead>\n",
       "  <tbody>\n",
       "    <tr>\n",
       "      <th>453681</th>\n",
       "      <td>1</td>\n",
       "      <td>0</td>\n",
       "      <td>46</td>\n",
       "      <td>I ordered it for healing purposes and it has n...</td>\n",
       "    </tr>\n",
       "    <tr>\n",
       "      <th>33953</th>\n",
       "      <td>1</td>\n",
       "      <td>0</td>\n",
       "      <td>5</td>\n",
       "      <td>Are you supposed to avoid sugars if you have a...</td>\n",
       "    </tr>\n",
       "    <tr>\n",
       "      <th>11629</th>\n",
       "      <td>1</td>\n",
       "      <td>0</td>\n",
       "      <td>5</td>\n",
       "      <td>These quickly became dog treats!  Just nasty! ...</td>\n",
       "    </tr>\n",
       "  </tbody>\n",
       "</table>\n",
       "</div>"
      ],
      "text/plain": [
       "        Score  HelpfulnessNumerator  HelpfulnessDenominator  \\\n",
       "453681      1                     0                      46   \n",
       "33953       1                     0                       5   \n",
       "11629       1                     0                       5   \n",
       "\n",
       "                                                     Text  \n",
       "453681  I ordered it for healing purposes and it has n...  \n",
       "33953   Are you supposed to avoid sugars if you have a...  \n",
       "11629   These quickly became dog treats!  Just nasty! ...  "
      ]
     },
     "metadata": {},
     "output_type": "display_data"
    },
    {
     "name": "stdout",
     "output_type": "stream",
     "text": [
      "\n",
      "SP = 1 (pos) samples:\n"
     ]
    },
    {
     "data": {
      "text/html": [
       "<div>\n",
       "<style scoped>\n",
       "    .dataframe tbody tr th:only-of-type {\n",
       "        vertical-align: middle;\n",
       "    }\n",
       "\n",
       "    .dataframe tbody tr th {\n",
       "        vertical-align: top;\n",
       "    }\n",
       "\n",
       "    .dataframe thead th {\n",
       "        text-align: right;\n",
       "    }\n",
       "</style>\n",
       "<table border=\"1\" class=\"dataframe\">\n",
       "  <thead>\n",
       "    <tr style=\"text-align: right;\">\n",
       "      <th></th>\n",
       "      <th>Score</th>\n",
       "      <th>Text</th>\n",
       "    </tr>\n",
       "  </thead>\n",
       "  <tbody>\n",
       "    <tr>\n",
       "      <th>451266</th>\n",
       "      <td>5</td>\n",
       "      <td>If you research, organic, unrefined cold press...</td>\n",
       "    </tr>\n",
       "    <tr>\n",
       "      <th>564589</th>\n",
       "      <td>5</td>\n",
       "      <td>Great quality at a good price and pure yummine...</td>\n",
       "    </tr>\n",
       "    <tr>\n",
       "      <th>266878</th>\n",
       "      <td>5</td>\n",
       "      <td>These taste great!  The usual graham crackers ...</td>\n",
       "    </tr>\n",
       "  </tbody>\n",
       "</table>\n",
       "</div>"
      ],
      "text/plain": [
       "        Score                                               Text\n",
       "451266      5  If you research, organic, unrefined cold press...\n",
       "564589      5  Great quality at a good price and pure yummine...\n",
       "266878      5  These taste great!  The usual graham crackers ..."
      ]
     },
     "metadata": {},
     "output_type": "display_data"
    },
    {
     "name": "stdout",
     "output_type": "stream",
     "text": [
      "\n",
      "SP = 0 (neg) samples:\n"
     ]
    },
    {
     "data": {
      "text/html": [
       "<div>\n",
       "<style scoped>\n",
       "    .dataframe tbody tr th:only-of-type {\n",
       "        vertical-align: middle;\n",
       "    }\n",
       "\n",
       "    .dataframe tbody tr th {\n",
       "        vertical-align: top;\n",
       "    }\n",
       "\n",
       "    .dataframe thead th {\n",
       "        text-align: right;\n",
       "    }\n",
       "</style>\n",
       "<table border=\"1\" class=\"dataframe\">\n",
       "  <thead>\n",
       "    <tr style=\"text-align: right;\">\n",
       "      <th></th>\n",
       "      <th>Score</th>\n",
       "      <th>Text</th>\n",
       "    </tr>\n",
       "  </thead>\n",
       "  <tbody>\n",
       "    <tr>\n",
       "      <th>398707</th>\n",
       "      <td>2</td>\n",
       "      <td>Have they changed the recipe? These aren't as ...</td>\n",
       "    </tr>\n",
       "    <tr>\n",
       "      <th>564381</th>\n",
       "      <td>2</td>\n",
       "      <td>My dogs love these, but I hate them because th...</td>\n",
       "    </tr>\n",
       "    <tr>\n",
       "      <th>45853</th>\n",
       "      <td>2</td>\n",
       "      <td>Personally, it tasted too sweet and you could ...</td>\n",
       "    </tr>\n",
       "  </tbody>\n",
       "</table>\n",
       "</div>"
      ],
      "text/plain": [
       "        Score                                               Text\n",
       "398707      2  Have they changed the recipe? These aren't as ...\n",
       "564381      2  My dogs love these, but I hate them because th...\n",
       "45853       2  Personally, it tasted too sweet and you could ..."
      ]
     },
     "metadata": {},
     "output_type": "display_data"
    }
   ],
   "source": [
    "# 6) View some examples\n",
    "print(\"HH = 1 (genuine) samples:\")\n",
    "display(df[df['hh_label']==1].sample(3)[['Score','HelpfulnessNumerator','HelpfulnessDenominator','Text']])\n",
    "\n",
    "print(\"\\nHH = 0 (fake) samples:\")\n",
    "display(df[df['hh_label']==0].sample(3)[['Score','HelpfulnessNumerator','HelpfulnessDenominator','Text']])\n",
    "\n",
    "print(\"\\nSP = 1 (pos) samples:\")\n",
    "display(df[df['sp_label']==1].sample(3)[['Score','Text']])\n",
    "\n",
    "print(\"\\nSP = 0 (neg) samples:\")\n",
    "display(df[df['sp_label']==0].sample(3)[['Score','Text']])\n"
   ]
  },
  {
   "cell_type": "code",
   "execution_count": null,
   "metadata": {},
   "outputs": [],
   "source": []
  }
 ],
 "metadata": {
  "kernelspec": {
   "display_name": "Python 3 (ipykernel)",
   "language": "python",
   "name": "python3"
  },
  "language_info": {
   "codemirror_mode": {
    "name": "ipython",
    "version": 3
   },
   "file_extension": ".py",
   "mimetype": "text/x-python",
   "name": "python",
   "nbconvert_exporter": "python",
   "pygments_lexer": "ipython3",
   "version": "3.11.6"
  }
 },
 "nbformat": 4,
 "nbformat_minor": 4
}
