{
 "cells": [
  {
   "cell_type": "markdown",
   "metadata": {},
   "source": [
    "# 04 – 1‑Layer Neural Network on TF–IDF Features\n",
    "\n",
    "In this notebook we will:\n",
    "1. Load the train/val/test splits for our chosen task (e.g. SP).  \n",
    "2. Apply the same `clean_text()` as before.  \n",
    "3. Fit a TF–IDF vectorizer to the train set and transform all splits.  \n",
    "4. Convert TF–IDF matrices to PyTorch `Dataset`/`DataLoader`.  \n",
    "5. Define a one‑layer MLP: 20 000 → 512 → 2 (softmax) with dropout.  \n",
    "6. Train with Adam optimizer, monitoring train/val loss and F1.  \n",
    "7. Plot training curves and evaluate on test set.  \n",
    "8. Save the trained model.  \n"
   ]
  }
 ],
 "metadata": {
  "language_info": {
   "name": "python"
  }
 },
 "nbformat": 4,
 "nbformat_minor": 2
}
